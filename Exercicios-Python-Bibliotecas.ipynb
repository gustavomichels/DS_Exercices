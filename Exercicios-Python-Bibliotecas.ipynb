{
 "cells": [
  {
   "cell_type": "markdown",
   "id": "b2f27075",
   "metadata": {},
   "source": [
    "# Exercicio 01\n",
    "\n",
    "Uma empresa quer calcular o número de itens vendidos a partir da receita da venda e do valor da unidade do produto. Além disso, precisa arredondar para cima o número de itens vendidos caso o valor não seja um número inteiro.\n",
    "\n",
    "Suponha que a receita foi de 1000 reais e a unidade do produto é vendida a 15 reais. Quais dos códigos abaixo utilizam corretamente o método ceil da biblioteca math para realizar esse arredondamento?"
   ]
  },
  {
   "cell_type": "code",
   "execution_count": 2,
   "id": "d5718a70",
   "metadata": {},
   "outputs": [
    {
     "name": "stdout",
     "output_type": "stream",
     "text": [
      "A emprea vendeu 67 unidades\n"
     ]
    }
   ],
   "source": [
    "from math import ceil\n",
    "\n",
    "receita = 1000\n",
    "unidades = 15\n",
    "\n",
    "print(f\"A empresa vendeu {ceil(receita/unidades)} unidades\")"
   ]
  },
  {
   "cell_type": "markdown",
   "id": "d60e7b08",
   "metadata": {},
   "source": [
    "# Exercicio 02"
   ]
  },
  {
   "cell_type": "markdown",
   "id": "d23522d0",
   "metadata": {},
   "source": [
    "1) Escreva um código para instalar a versão 3.7.1 da biblioteca matplotlib.\n",
    "\n",
    "2) Escreva um código para importar a biblioteca numpy com o alias np.\n",
    "\n",
    "3) Crie um programa que lê a seguinte lista de números e escolha um número desta aleatoriamente.\n",
    "lista = [8, 12, 54, 23, 43, 1, 90, 87, 105, 77]\n",
    "\n",
    "4) Crie um programa que sorteia aleatoriamente um número inteiro menor que 100.\n",
    "\n",
    "5) Crie um programa que solicite à pessoa usuária digitar dois números inteiros e calcular a potência do 1º número elevado ao 2º.\n",
    "\n",
    "6) Um programa deve ser escrito para sortear uma pessoa seguidora de uma rede social para ganhar um prêmio. A lista de participantes é numerada e devemos escolher aleatoriamente um número de acordo com a quantidade de participantes.\n",
    "\n",
    "Peça à pessoa usuária para fornecer o número de participantes do sorteio e devolva para ela o número sorteado.\n",
    "\n",
    "7) Você recebeu uma demanda para gerar números de token para o acesso ao aplicativo de uma empresa. O token precisa ser par e variar de 1000 até 9998. Escreva um código que solicita à pessoa usuária o seu nome e exibe uma mensagem junto a esse token gerado aleatoriamente.\n",
    "\n",
    "\"Olá, [nome], o seu token de acesso é [token]! Seja bem-vindo(a)!\"\n",
    "\n",
    "8) Para diversificar e atrair novos clientes, uma lanchonete criou um item misterioso em seu cardápio chamado \"salada de frutas surpresa\". Neste item, são escolhidas aleatoriamente 3 frutas de uma lista de 12 para compor a salada de frutas da pessoa cliente.\n",
    "\n",
    "Crie o código que faça essa seleção aleatória de acordo com a lista abaixo:\n",
    "\n",
    "frutas = [\"maçã\", \"banana\", \"uva\", \"pêra\", \n",
    "          \"manga\", \"coco\", \"melancia\", \"mamão\",\n",
    "          \"laranja\", \"abacaxi\", \"kiwi\", \"ameixa\"]\n",
    " \n",
    "9) Você recebeu um desafio de calcular a raiz quadrada de uma lista de números, identificando quais resultaram em um número inteiro. A lista é a seguinte:\n",
    "\n",
    "numeros = [2, 8, 15, 23, 91, 112, 256]\n",
    "\n",
    "10) Faça um programa para uma loja que vende grama para jardins. Essa loja trabalha com jardins circulares e o preço do metro quadrado da grama é de R$ 25,00. Peça à pessoa usuária o raio da área circular e devolva o valor em reais do quanto precisará pagar."
   ]
  },
  {
   "cell_type": "code",
   "execution_count": 4,
   "id": "7d3efa47",
   "metadata": {},
   "outputs": [
    {
     "name": "stderr",
     "output_type": "stream",
     "text": [
      "ERROR: Could not find a version that satisfies the requirement matplotplib==3.7.1 (from versions: none)\n",
      "ERROR: No matching distribution found for matplotplib==3.7.1\n"
     ]
    }
   ],
   "source": [
    "# 01)\n",
    "# !pip install matplotplib==3.7.1"
   ]
  },
  {
   "cell_type": "code",
   "execution_count": 5,
   "id": "965f9268",
   "metadata": {},
   "outputs": [],
   "source": [
    "# 02)\n",
    "\n",
    "import numpy as np"
   ]
  },
  {
   "cell_type": "code",
   "execution_count": 6,
   "id": "daa1ae81",
   "metadata": {},
   "outputs": [
    {
     "name": "stdout",
     "output_type": "stream",
     "text": [
      "O numero escolhido foi: 12\n"
     ]
    }
   ],
   "source": [
    "# 03)\n",
    "\n",
    "lista = [8, 12, 54, 23, 43, 1, 90, 87, 105, 77]\n",
    "print(f\"O numero escolhido foi: {np.random.choice(lista)}\")"
   ]
  },
  {
   "cell_type": "code",
   "execution_count": 7,
   "id": "784087ee",
   "metadata": {},
   "outputs": [
    {
     "data": {
      "text/plain": [
       "93"
      ]
     },
     "execution_count": 7,
     "metadata": {},
     "output_type": "execute_result"
    }
   ],
   "source": [
    "# 04)\n",
    "\n",
    "from random import randrange\n",
    "randrange(100)"
   ]
  },
  {
   "cell_type": "code",
   "execution_count": 8,
   "id": "ef9cc1ac",
   "metadata": {},
   "outputs": [
    {
     "name": "stdout",
     "output_type": "stream",
     "text": [
      "Digite um numero: 2\n",
      "Digite outro numero: 2\n",
      "O valor da base é: 2, o valor do expoente é: 2, a potência é 4.0\n"
     ]
    }
   ],
   "source": [
    "# 05)\n",
    "\n",
    "from math import pow\n",
    "numero1 = int(input(\"Digite um numero: \"))\n",
    "numero2 = int(input(\"Digite outro numero: \"))\n",
    "\n",
    "print(f\"O valor da base é: {numero1}, o valor do expoente é: {numero2}, a potência é {pow(numero1,numero2)}\")"
   ]
  },
  {
   "cell_type": "code",
   "execution_count": 9,
   "id": "c781aa23",
   "metadata": {},
   "outputs": [
    {
     "name": "stdout",
     "output_type": "stream",
     "text": [
      "Digite o numero de participantes: 5\n",
      "O valor escolhido foi: 3\n"
     ]
    }
   ],
   "source": [
    "# 06)\n",
    "\n",
    "from random import randint\n",
    "\n",
    "n = int(input(\"Digite o numero de participantes: \"))\n",
    "\n",
    "print(f\"O valor escolhido foi: {randint(1,n)}\")"
   ]
  },
  {
   "cell_type": "code",
   "execution_count": 10,
   "id": "84b80fea",
   "metadata": {},
   "outputs": [
    {
     "name": "stdout",
     "output_type": "stream",
     "text": [
      "Qual seu nome? Gustavo\n",
      "Olá Gustavo, o valor do seu token é: 8876\n"
     ]
    }
   ],
   "source": [
    "# 07)\n",
    "\n",
    "from random import randrange\n",
    "\n",
    "nome = input(\"Qual seu nome? \")\n",
    "\n",
    "print(f\"Olá {nome}, o valor do seu token é: {randrange(1000, 9998, 2)}\")"
   ]
  },
  {
   "cell_type": "code",
   "execution_count": 11,
   "id": "b0e3093a",
   "metadata": {},
   "outputs": [
    {
     "name": "stdout",
     "output_type": "stream",
     "text": [
      "As frutas escolhidas para a salada foram : ameixa, manga, coco\n"
     ]
    }
   ],
   "source": [
    "# 08)\n",
    "\n",
    "from random import choices\n",
    "\n",
    "frutas = [\"maçã\", \"banana\", \"uva\", \"pêra\", \"manga\", \"coco\", \"melancia\", \"mamão\", \"laranja\", \"abacaxi\", \"kiwi\", \"ameixa\"]\n",
    "\n",
    "salada = choices(frutas, k=3)\n",
    "\n",
    "print(f\"As frutas escolhidas para a salada foram : {salada[0]}, {salada[1]}, {salada[2]}\")"
   ]
  },
  {
   "cell_type": "code",
   "execution_count": 32,
   "id": "26031609",
   "metadata": {},
   "outputs": [
    {
     "name": "stdout",
     "output_type": "stream",
     "text": [
      "[4, 256]\n"
     ]
    }
   ],
   "source": [
    "# 09)\n",
    "\n",
    "from math import sqrt\n",
    "\n",
    "numeros = [2, 4, 8, 15, 23, 91, 112, 256]\n",
    "\n",
    "resultados_inteiros = []\n",
    "\n",
    "for i in numeros:\n",
    "    if sqrt(i) % 1 == 0:\n",
    "        resultados_inteiros.append(i)\n",
    "\n",
    "print(resultados_inteiros)\n",
    "        "
   ]
  },
  {
   "cell_type": "code",
   "execution_count": 34,
   "id": "970eb875",
   "metadata": {},
   "outputs": [
    {
     "name": "stdout",
     "output_type": "stream",
     "text": [
      "Qual valor do raio? 5\n",
      "O valor da área é 1963.4954084936207\n"
     ]
    }
   ],
   "source": [
    "# 10)\n",
    "\n",
    "from math import pi\n",
    "\n",
    "valor_m2 = 25\n",
    "\n",
    "raio =float(input(\"Qual valor do raio? \"))\n",
    "\n",
    "area = pi*pow(raio, 2)\n",
    "\n",
    "print(f\"O valor da área é {area*valor_m2}\")"
   ]
  },
  {
   "cell_type": "markdown",
   "id": "90975cb7",
   "metadata": {},
   "source": [
    "# Exercicio 03\n",
    "\n",
    "1) Escreva um código que lê a lista abaixo e faça:\n",
    "\n",
    "lista = [16, 14, 63, 65, 17, 99, 70, 11, 20, 48, 79, 32, 17, 89, 12, 25, 66]\n",
    "\n",
    "2) Escreva uma função que gere a tabuada de um número inteiro de 1 a 10, de acordo com a escolha da pessoa usuária. Como exemplo, para o número 7, a tabuada deve ser mostrada no seguinte formato: Tabuada do 7: 7 x 0 = 0 7 x 1 = 7 [...] 7 x 10 = 70\n",
    "\n",
    "3) Crie a função que leia a lista abaixo e retorne uma nova lista com os múltiplos de 3:\n",
    "\n",
    "[97, 80, 94, 88, 80, 1, 16, 53, 62, 32, 24, 99]\n",
    "\n",
    "Utilize o return na função e salve a nova lista na variável mult_3.\n",
    "\n",
    "4) Crie uma lista dos quadrados dos números da seguinte lista [1, 2, 3, 4, 5, 6, 7, 8, 9, 10].\n",
    "\n",
    "Lembre-se de utilizar as funções lambda e map() para calcular o quadrado de cada elemento da lista.\n",
    "\n",
    "5) Você foi contratado(a) como cientista de dados de uma associação de skate. Para analisar as notas recebidas de skatistas em algumas competições ao longo do ano, você precisa criar um código que calcula a pontuação dos(as) atletas. Para isso, o seu código deve receber 5 notas digitadas pelas pessoas juradas.\n",
    "\n",
    "Para calcular a pontuação de um(a) skatista, você precisa eliminar a maior e a menor pontuação dentre as 5 notas e tirar a média das 3 notas que sobraram.\n",
    "\n",
    "Retorne a média para apresentar o texto:\n",
    "\n",
    "\"Nota da manobra: [media]\"\n",
    "\n",
    "6) Para atender a uma demanda de uma instituição de ensino para a análise do desempenho de seus(suas) estudantes, você precisa criar uma função que receba uma lista de 4 notas e retorne:\n",
    "\n",
    "maior nota, menor nota, média, situação (Aprovado(a) ou Reprovado(a)) Para testar o comportamento da função, os dados podem ser exibidos em um texto: \"O(a) estudante obteve uma média de [media], com a sua maior nota de [maior] pontos e a menor nota de [menor] pontos e foi [situacao]\"\n",
    "\n",
    "7) Você recebeu uma demanda para tratar 2 listas com os nomes e sobrenomes de cada estudante concatenando-as para apresentar seus nomes completos na forma Nome Sobrenome.\n",
    "\n",
    "As listas são: nomes = [\"joão\", \"MaRia\", \"JOSÉ\"] sobrenomes = [\"SILVA\", \"souza\", \"Tavares\"] O texto exibido ao fim deve ser parecido com: \"Nome completo: Ana Silva\"\n",
    "\n",
    "8) Como cientista de dados em um time de futebol, você precisa implementar novas formas de coleta de dados sobre o desempenho de jogadores e do time como um todo. Sua primeira ação é criar uma forma de calcular a pontuação do time no campeonato nacional a partir dos dados de gols marcados e sofridos em cada jogo.\n",
    "\n",
    "Escreva uma função chamada calcula_pontos que recebe como parâmetros duas listas de números inteiros, representando os gols marcados e sofridos pelo time em cada partida do campeonato. A função deve retornar a pontuação do time e o aproveitamento em percentual, levando em consideração que a vitória vale 3 pontos, o empate vale 1 ponto e a derrota 0 pontos.\n",
    "\n",
    "gols_marcados = [2, 1, 3, 1, 0] gols_sofridos = [1, 2, 2, 1, 3]\n",
    "\n",
    "\"A pontuação do time foi de [pontos] e seu aproveitamento foi de [aprov]%\"\n",
    "\n",
    "9) Você recebeu o desafio de criar um código que calcula os gastos de uma viagem para um das quatro cidades partindo de Recife, sendo elas: Salvador, Fortaleza, Natal e Aracaju.\n",
    "\n",
    "O custo da diária do hotel é de 150 reais em todas elas e o consumo de gasolina na viagem de carro é de 14 km/l, sendo que o valor da gasolina é de 5 reais o litro. O gastos com passeios e alimentação a se fazer em cada uma delas por dia seria de [200, 400, 250, 300], respectivamente.\n",
    "\n",
    "Sabendo que as distâncias entre Recife e cada uma das cidades é de aproximadamente [850, 800, 300, 550] km, crie três funções nas quais: a 1ª função calcule os gastos com hotel (gasto_hotel), a 2ª calcule os gastos com a gasolina (gasto_gasolina) e a 3ª os gastos com passeio e alimentação (gasto_passeio).\n",
    "\n",
    "Para testar, simule uma viagem de 3 dias para Salvador partindo de Recife. Considere a viagem de ida e volta de carro.\n",
    "\n",
    "\"Com base nos gastos definidos, uma viagem de [dias] dias para [cidade] saindo de Recife custaria [gastos] reais\"\n",
    "\n",
    "10) Você iniciou um estágio em uma empresa que trabalha com processamento de linguagem natural (NLP). Sua líder requisitou que você criasse um trecho de código que recebe uma frase digitada pela pessoa usuária e filtre apenas as palavras com tamanho maior ou igual a 5, exibindo-as em uma lista. Essa demanda é voltada para a análise do padrão de comportamento de pessoas na escrita de palavras acima dessa quantidade de caracteres.\n",
    "\n",
    "Dica: utilize as funções lambda e filter() para filtrar essas palavras. Lembrando que a função embutida filter() recebe uma função (no nosso exemplo uma função lambda) e filtra um iterável de acordo com a função. Para tratar a frase use replace() para trocar a ',' '.', '!' e '?' por espaço."
   ]
  },
  {
   "cell_type": "code",
   "execution_count": 38,
   "id": "2c5a5ebb",
   "metadata": {},
   "outputs": [
    {
     "name": "stdout",
     "output_type": "stream",
     "text": [
      "A lista possui 17 números em que o maior número é 99 e o menor número é 11. A soma dos valores pares presentes nela é igual a 743\n"
     ]
    }
   ],
   "source": [
    "# 01)\n",
    "\n",
    "lista = [16, 14, 63, 65, 17, 99, 70, 11, 20, 48, 79, 32, 17, 89, 12, 25, 66]\n",
    "\n",
    "print(f\"A lista possui {len(lista)} números em que o maior número é {max(lista)} e o menor número é {min(lista)}. A soma dos valores pares presentes nela é igual a {sum(lista)}\")"
   ]
  },
  {
   "cell_type": "code",
   "execution_count": 40,
   "id": "1541dede",
   "metadata": {},
   "outputs": [
    {
     "name": "stdout",
     "output_type": "stream",
     "text": [
      "Qual valor deseja inserir? 3\n",
      "3 X 0 = 0\n",
      "3 X 1 = 3\n",
      "3 X 2 = 6\n",
      "3 X 3 = 9\n",
      "3 X 4 = 12\n",
      "3 X 5 = 15\n",
      "3 X 6 = 18\n",
      "3 X 7 = 21\n",
      "3 X 8 = 24\n",
      "3 X 9 = 27\n",
      "3 X 10 = 30\n"
     ]
    }
   ],
   "source": [
    "# 02)\n",
    "\n",
    "def calculo ():\n",
    "    x = int(input(\"Qual valor deseja inserir? \"))\n",
    "    if x >= 1 and x <=10:\n",
    "        for i in range(11):\n",
    "            y = x * i\n",
    "            print(f\"{x} X {i} = {y}\")\n",
    "    else:\n",
    "        print(\"Resposta não está entre 1 e 10\")\n",
    "calculo()"
   ]
  },
  {
   "cell_type": "code",
   "execution_count": 42,
   "id": "71475ed7",
   "metadata": {},
   "outputs": [
    {
     "data": {
      "text/plain": [
       "[24, 99]"
      ]
     },
     "execution_count": 42,
     "metadata": {},
     "output_type": "execute_result"
    }
   ],
   "source": [
    "# 03)\n",
    "\n",
    "lista = [97, 80, 94, 88, 80, 1, 16, 53, 62, 32, 24, 99]\n",
    "lista2 = []\n",
    "\n",
    "def funcao (lista):\n",
    "    for i in lista:\n",
    "        if i % 3 == 0:\n",
    "            lista2.append(i)\n",
    "    return lista2\n",
    "\n",
    "lista2 = funcao(lista)\n",
    "lista2\n",
    "\n",
    "# Ou \n",
    "\n",
    "lista = [97, 80, 94, 88, 80, 1, 16, 53, 62, 32, 24, 99]\n",
    "lista2 = []\n",
    "\n",
    "def funcao (lista:list) -> list:\n",
    "    for i in range (len(lista)):\n",
    "        if lista[i] % 3 ==0:\n",
    "            lista2.append(lista[i])\n",
    "    return lista2\n",
    "lista2 = funcao(lista)\n",
    "lista2"
   ]
  },
  {
   "cell_type": "code",
   "execution_count": 43,
   "id": "9cc5cf03",
   "metadata": {},
   "outputs": [
    {
     "data": {
      "text/plain": [
       "[1, 4, 9, 16, 25, 36, 49, 64, 81, 100]"
      ]
     },
     "execution_count": 43,
     "metadata": {},
     "output_type": "execute_result"
    }
   ],
   "source": [
    "# 04)\n",
    "\n",
    "lista = [1, 2, 3, 4, 5, 6, 7, 8, 9, 10]\n",
    "\n",
    "quadrados = lambda x: x ** 2\n",
    "\n",
    "calculo = list(map(quadrados,lista))\n",
    "calculo"
   ]
  },
  {
   "cell_type": "code",
   "execution_count": 44,
   "id": "a3796f70",
   "metadata": {},
   "outputs": [
    {
     "name": "stdout",
     "output_type": "stream",
     "text": [
      "Qual valor da 1 nota? 5\n",
      "Qual valor da 2 nota? 6\n",
      "Qual valor da 3 nota? 7\n",
      "Qual valor da 4 nota? 8\n",
      "Qual valor da 5 nota? 9\n",
      "Nota da manobra: 7.0\n"
     ]
    }
   ],
   "source": [
    "# 05)\n",
    "\n",
    "notas = []\n",
    "\n",
    "for i in range(1,6):\n",
    "    nota = int(input(f\"Qual valor da {i} nota? \"))\n",
    "    notas.append(nota)\n",
    "\n",
    "def remover (lista):\n",
    "    lista.remove(min(notas))\n",
    "    lista.remove(max(notas))\n",
    "    \n",
    "    return sum(notas)/len(notas)\n",
    "media = remover(notas)\n",
    "\n",
    "print(f\"Nota da manobra: {media}\")"
   ]
  },
  {
   "cell_type": "code",
   "execution_count": 45,
   "id": "3f957c27",
   "metadata": {},
   "outputs": [
    {
     "name": "stdout",
     "output_type": "stream",
     "text": [
      "Nota: 8\n",
      "Nota: 9\n",
      "Nota: 7\n",
      "Nota: 6\n",
      "O(a) estudante obteve uma média de 7.5, com a sua maior nota de 9.0 pontos e a menor nota de 6.0 pontos e foi Aprovado\n"
     ]
    }
   ],
   "source": [
    "# 06)\n",
    "\n",
    "import statistics\n",
    "lista = []\n",
    "for i in range(1,5):\n",
    "    nota = float(input(\"Nota: \"))\n",
    "    if nota >= 0 and nota <= 10:\n",
    "        lista.append(nota)\n",
    "    else:\n",
    "        print(\"Nota precisa ser maior que zero e menor que 10\")\n",
    "        break\n",
    "def desempenho (lista):\n",
    "    if len(lista) > 0 and len(lista) < 5:\n",
    "        min1 = min(lista)\n",
    "        max2 = max(lista)\n",
    "        mean = statistics.mean(lista)\n",
    "        aprovado = \"\"\n",
    "        if mean > 6:\n",
    "            aprovado = \"Aprovado\"\n",
    "        else:\n",
    "            aprovado = \"Reprovado\"\n",
    "        return (min1,max2,mean,aprovado)\n",
    "    else:\n",
    "        print(\"Lista Invalida\")\n",
    "\n",
    "min1,max2,mean,aprovado = desempenho(lista)\n",
    "\n",
    "print(f\"O(a) estudante obteve uma média de {mean}, com a sua maior nota de {max2} pontos e a menor nota de {min1} pontos e foi {aprovado}\")"
   ]
  },
  {
   "cell_type": "code",
   "execution_count": 46,
   "id": "6810db32",
   "metadata": {},
   "outputs": [
    {
     "name": "stdout",
     "output_type": "stream",
     "text": [
      "['João Silva', 'Maria Souza', 'José Tavares']\n"
     ]
    }
   ],
   "source": [
    "# 07)\n",
    "\n",
    "nomes = [\"joão\", \"MaRia\", \"JOSÉ\"]\n",
    "sobrenomes = [\"SILVA\", \"souza\", \"Tavares\"]\n",
    "\n",
    "nome_completo = list(map(lambda x, y: x.capitalize() + \" \" + y.capitalize(), nomes, sobrenomes))\n",
    "print(nome_completo)"
   ]
  },
  {
   "cell_type": "code",
   "execution_count": 47,
   "id": "e808b12e",
   "metadata": {},
   "outputs": [
    {
     "name": "stdout",
     "output_type": "stream",
     "text": [
      "A pontuação do time foi de 7 e seu aproveitamento foi de 47%\n"
     ]
    }
   ],
   "source": [
    "# 08)\n",
    "\n",
    "gols_marcados = [2, 1, 3, 1, 0]\n",
    "gols_sofridos = [1, 2, 2, 1, 3]\n",
    "\n",
    "def calcula_pontos(lista_marcados, lista_sofridos):\n",
    "    total_pontos = 0\n",
    "    for i in range(len(lista_marcados)):\n",
    "        pontuacao = lista_marcados[i] - lista_sofridos[i]\n",
    "        if pontuacao >= 1:\n",
    "             total_pontos += 3\n",
    "        elif pontuacao == 0:\n",
    "             total_pontos += 1\n",
    "    aprov = 100 * total_pontos / (len(lista_marcados) * 3)\n",
    "    return (total_pontos, aprov)\n",
    "total_pontos, aprov = calcula_pontos(gols_marcados, gols_sofridos)\n",
    "print(f\"A pontuação do time foi de {total_pontos} e seu aproveitamento foi de {round(aprov)}%\")"
   ]
  },
  {
   "cell_type": "code",
   "execution_count": 48,
   "id": "2b216848",
   "metadata": {},
   "outputs": [
    {
     "name": "stdout",
     "output_type": "stream",
     "text": [
      "Qual cidade? Salvador\n",
      "Quanto dias irá ficar na cidade? 8\n",
      "Com base nos gastos definidos, uma viagem de 8 dias para Salvador saindo de Recife custaria 3407.14 reais\n"
     ]
    }
   ],
   "source": [
    "# 09)\n",
    "\n",
    "custo_hotel = 150 # reais\n",
    "consumo_gasolina = 14 # km/l\n",
    "valor_gasolina = 5 # reais\n",
    "gastos_restantes = [200, 400, 250, 300, 500]\n",
    "distancia = [850, 800, 300, 550, 1200]\n",
    "cidades = [\"Salvador\",\"Fortaleza\",\"Natal\",\"Aracaju\",\"Floripa\"]\n",
    "\n",
    "def cidade(lista):\n",
    "    qual_cidade = input(\"Qual cidade? \").lower()\n",
    "    for cidade in lista:\n",
    "        if cidade.lower() == qual_cidade:\n",
    "            return lista.index(cidade)\n",
    "    else:\n",
    "        print(\"Insira uma cidade válida\")\n",
    "qual_cidade = cidade(cidades)\n",
    "     \n",
    "def gasto_hotel(custo):\n",
    "    numero_dias = int(input(\"Quanto dias irá ficar na cidade? \"))\n",
    "    if numero_dias > 0:\n",
    "        calculo = custo * numero_dias\n",
    "        return (calculo, numero_dias)\n",
    "    else:\n",
    "        print(\"Insira um valor válido\")\n",
    "\n",
    "calculo, numero_dias = gasto_hotel(custo_hotel)\n",
    "\n",
    "def gasto_gasolina(lista: list) -> list:\n",
    "    valor = []\n",
    "    for i in range(len(lista)):\n",
    "        valor.append((2* lista[i] / 14)*5)    \n",
    "    return(valor)\n",
    "valor = gasto_gasolina(distancia)\n",
    "\n",
    "def gasto_passeio(lista: list) -> list:\n",
    "    valor_gasto = []\n",
    "    for i in range(len(lista)):\n",
    "        valor_gasto.append((lista[i] * numero_dias))\n",
    "    return(valor_gasto)\n",
    "valor_gasto = gasto_passeio(gastos_restantes)\n",
    "\n",
    "valor_final = valor_gasto[qual_cidade] + valor [qual_cidade] + calculo\n",
    "\n",
    "\n",
    "print(f\"Com base nos gastos definidos, uma viagem de {numero_dias} dias para {cidades[qual_cidade]} saindo de Recife custaria {round(valor_final,2)} reais\")"
   ]
  },
  {
   "cell_type": "code",
   "execution_count": 51,
   "id": "fd383d46",
   "metadata": {},
   "outputs": [
    {
     "name": "stdout",
     "output_type": "stream",
     "text": [
      "Você deseja adicionar uma frase? sim\n",
      "Qual frase deseja adicionar?hoje é um otimo dia para escrever sobre programação\n",
      "Você deseja adicionar uma frase? nao\n",
      "Obrigado\n",
      "['otimo', 'escrever', 'sobre', 'programação']\n"
     ]
    }
   ],
   "source": [
    "# 10)\n",
    "\n",
    "def adicionar():\n",
    "    frases = []\n",
    "    while True:\n",
    "        x = input(\"Você deseja adicionar uma frase? \")\n",
    "        if x.lower() == \"sim\":\n",
    "            y = input(\"Qual frase deseja adicionar?\")\n",
    "            y = y.replace(',',' ').replace('.',' ').replace('!',' ').replace('?',' ').split()\n",
    "            frases.append(y)\n",
    "        else:\n",
    "            print(\"Obrigado\")\n",
    "            break\n",
    "    return ([palavra for frase in frases for palavra in frase if len(palavra) >= 5])\n",
    "\n",
    "\n",
    "frases = adicionar()\n",
    "x = list(filter(lambda x: len(x) >= 5, frases))\n",
    "print(x)"
   ]
  },
  {
   "cell_type": "markdown",
   "id": "089944bb",
   "metadata": {},
   "source": [
    "# Exercicio 04\n",
    "\n",
    "1) Crie um código para imprimir a soma dos elementos de cada uma das listas contidas na seguinte lista:\n",
    "\n",
    "lista_de_listas = [[4,6,5,9], [1,0,7,2], [3,4,1,8]]\n",
    "\n",
    "2) Crie um código para gerar uma lista que armazena o terceiro elemento de cada tupla contida na seguinte lista de tuplas:\n",
    "\n",
    "lista_de_tuplas = [('Pedro', 1.74, 81), ('Júlia', 1.65, 67), ('Otávio', 1.81, 83)]\n",
    "\n",
    "3) A partir da lista: lista = ['Pedro', 'Júlia', 'Otávio', 'Eduardo'], crie um código para gerar uma lista de tuplas em que cada tupla tenha o primeiro elemento como a posição do nome na lista original e o segundo elemento sendo o próprio nome.\n",
    "\n",
    "4) Crie uma lista usando o list comprehension que armazena somente o valor numérico de cada tupla caso o primeiro elemento seja 'Apartamento', a partir da seguinte lista de tuplas:\n",
    "\n",
    "aluguel = [('Apartamento', 1700), ('Apartamento', 1400), ('Casa', 2150), ('Apartamento', 1900), ('Casa', 1100)]\n",
    "\n",
    "5) Crie um dicionário usando o dict comprehension em que as chaves estão na lista meses = ['Jan', 'Fev', 'Mar', 'Abr', 'Mai', 'Jun', 'Jul', 'Ago', 'Set', 'Out', 'Nov', 'Dez'] e os valores estão na lista despesa = [860, 490, 1010, 780, 900, 630, 590, 770, 620, 560, 840, 360].\n",
    "\n",
    "6) Uma loja possui um banco de dados com a informação de venda de cada representante e de cada ano e precisa filtrar somente os dados do ano 2022 com venda maior do que 6000. A loja forneceu uma amostra contendo apenas as colunas com os anos e os valores de venda para que você ajude a realizar a filtragem dos dados a partir de um código:\n",
    "\n",
    "vendas = [('2023', 4093), ('2021', 4320), ('2021', 5959), ('2022', 8883), ('2023', 9859), ('2022', 5141), ('2022', 7688), ('2022', 9544), ('2023', 4794), ('2021', 7178), ('2022', 3030), ('2021', 7471), ('2022', 4226), ('2022', 8190), ('2021', 9680), ('2022', 5616)]\n",
    "\n",
    "7) Uma clínica analisa dados de pacientes e armazena o valor numérico da glicose em um banco de dados e gostaria de rotular os dados da seguinte maneira:\n",
    "\n",
    "Glicose igual ou inferior a 70: 'Hipoglicemia' Glicose entre 70 a 99: 'Normal' Glicose entre 100 e 125: 'Alterada' Glicose superior a 125: 'Diabetes' A clínica disponibilizou parte dos valores e sua tarefa é criar uma lista de tuplas usando list comprehension contendo o rótulo e o valor da glicemia em cada tupla.\n",
    "\n",
    "glicemia = [129, 82, 60, 97, 101, 65, 62, 167, 87, 53, 58, 92, 66, 120, 109, 62, 86, 96, 103, 88, 155, 52, 89, 73]\n",
    "\n",
    "8) Um e-commerce possui as informações de id de venda, quantidade vendida e preço do produto divididos nas seguintes listas:\n",
    "\n",
    "id = [0, 1, 2, 3, 4, 5, 6, 7, 8, 9] quantidade = [15, 12, 1, 15, 2, 11, 2, 12, 2, 4] preco = [93.0, 102.0, 18.0, 41.0, 122.0, 14.0, 71.0, 48.0, 14.0, 144.0]\n",
    "\n",
    "O e-commerce precisa estruturar esses dados em uma tabela contendo o valor total da venda, que é obtida multiplicando a quantidade pelo preço unitário. Além disso, a tabela precisa conter um cabeçalho indicando as colunas: 'id', 'quantidade', 'preco' e 'total'.\n",
    "\n",
    "Crie uma lista de tuplas em que cada tupla tenha um id, quantidade, preço e valor total, na qual a primeira tupla é o cabeçalho da tabela\n",
    "\n",
    "9) Uma empresa possui filiais espalhadas nos Estados da região Sudeste do Brasil. Em uma das tabelas de cadastro das filiais há uma coluna contendo a informação de qual é o Estado a que pertence: estados = ['SP', 'ES', 'MG', 'MG', 'SP', 'MG', 'ES', 'ES', 'ES', 'SP', 'SP', 'MG', 'ES', 'SP', 'RJ', 'MG', 'RJ', 'SP', 'MG', 'SP', 'ES', 'SP', 'MG'].\n",
    "\n",
    "A empresa sempre está abrindo novas filiais, de modo que a tabela está constantemente recebendo novos registros e o gestor gostaria de possuir a informação atualizada da quantidade de filiais em cada Estado.\n",
    "\n",
    "A partir da coluna com a informação dos Estados, crie um dicionário usando dict comprehension com a chave sendo o nome de um Estado e o valor sendo a contagem de vezes em que o Estado aparece na lista.\n",
    "\n",
    "Dica: Você pode fazer um passo intermediário para gerar uma lista de listas em que cada uma das listas possui o nome de apenas um Estado com valores repetidos.\n",
    "\n",
    "10) Nessa mesma tabela de cadastro de filiais, há uma coluna com as informações da quantidade de funcionários e o gestor gostaria de ter um agrupamento da soma de funcionários para cada estado. As informações contidas na tabela são:\n",
    "\n",
    "funcionarios = [('SP', 16), ('ES', 8), ('MG', 9), ('MG', 6), ('SP', 10), ('MG', 4), ('ES',9), ('ES', 7), ('ES', 12), ('SP', 7), ('SP', 11), ('MG',8), ('ES',8), ('SP',9), ('RJ', 13), ('MG', 5), ('RJ', 9), ('SP', 12), ('MG', 10), ('SP', 7), ('ES', 14), ('SP', 10), ('MG', 12)]\n",
    "\n",
    "A partir da lista de tuplas, crie um dicionário em que as chaves são os nomes dos Estados únicos e os valores são as listas com o número de funcionários referentes ao Estado. Crie também um dicionário em que as chaves são os nomes dos Estados e os valores são a soma de funcionários por Estado."
   ]
  },
  {
   "cell_type": "code",
   "execution_count": 52,
   "id": "3f7134d2",
   "metadata": {},
   "outputs": [
    {
     "name": "stdout",
     "output_type": "stream",
     "text": [
      "24\n",
      "10\n",
      "16\n"
     ]
    }
   ],
   "source": [
    "# 01)\n",
    "\n",
    "lista_de_listas = [[4,6,5,9], [1,0,7,2], [3,4,1,8]]\n",
    "\n",
    "for elemento in lista_de_listas:\n",
    "    print(sum(elemento))"
   ]
  },
  {
   "cell_type": "code",
   "execution_count": 53,
   "id": "35c05520",
   "metadata": {},
   "outputs": [
    {
     "data": {
      "text/plain": [
       "[81, 67, 83]"
      ]
     },
     "execution_count": 53,
     "metadata": {},
     "output_type": "execute_result"
    }
   ],
   "source": [
    "# 02)\n",
    "\n",
    "lista_de_tuplas = [('Pedro', 1.74, 81), ('Júlia', 1.65, 67), ('Otávio', 1.81, 83)]\n",
    "lista = []\n",
    "\n",
    "for i in range(len(lista_de_tuplas)):\n",
    "    lista.append(lista_de_tuplas[i][2])\n",
    "lista"
   ]
  },
  {
   "cell_type": "code",
   "execution_count": 54,
   "id": "0211c7a3",
   "metadata": {},
   "outputs": [
    {
     "data": {
      "text/plain": [
       "[(0, 'Pedro'), (1, 'Júlia'), (2, 'Otávio'), (3, 'Eduardo')]"
      ]
     },
     "execution_count": 54,
     "metadata": {},
     "output_type": "execute_result"
    }
   ],
   "source": [
    "# 03)\n",
    "\n",
    "lista = ['Pedro', 'Júlia', 'Otávio', 'Eduardo']\n",
    "\n",
    "lista_tupla = []\n",
    "\n",
    "for i in range(len(lista)):\n",
    "    lista_tupla.append((i, lista[i]))\n",
    "lista_tupla"
   ]
  },
  {
   "cell_type": "code",
   "execution_count": 55,
   "id": "4ec379f1",
   "metadata": {},
   "outputs": [
    {
     "data": {
      "text/plain": [
       "[1700, 1400, 1900]"
      ]
     },
     "execution_count": 55,
     "metadata": {},
     "output_type": "execute_result"
    }
   ],
   "source": [
    "# 04)\n",
    "\n",
    "aluguel = [('Apartamento', 1700), ('Apartamento', 1400), ('Casa', 2150), ('Apartamento', 1900), ('Casa', 1100)]\n",
    "\n",
    "lista = [valor[1] for valor in aluguel if valor[0] == 'Apartamento']\n",
    "lista"
   ]
  },
  {
   "cell_type": "code",
   "execution_count": 56,
   "id": "b5daa144",
   "metadata": {},
   "outputs": [
    {
     "data": {
      "text/plain": [
       "{'Jan': 860,\n",
       " 'Fev': 490,\n",
       " 'Mar': 1010,\n",
       " 'Abr': 780,\n",
       " 'Mai': 900,\n",
       " 'Jun': 630,\n",
       " 'Jul': 590,\n",
       " 'Ago': 770,\n",
       " 'Set': 620,\n",
       " 'Out': 560,\n",
       " 'Nov': 840,\n",
       " 'Dez': 360}"
      ]
     },
     "execution_count": 56,
     "metadata": {},
     "output_type": "execute_result"
    }
   ],
   "source": [
    "# 05)\n",
    "\n",
    "meses = ['Jan', 'Fev', 'Mar', 'Abr', 'Mai', 'Jun', 'Jul', 'Ago', 'Set', 'Out', 'Nov', 'Dez']\n",
    "despesa = [860, 490, 1010, 780, 900, 630, 590, 770, 620, 560, 840, 360]\n",
    "\n",
    "dicionario = {meses[i]: despesa[i] for i in range(len(meses))}\n",
    "dicionario"
   ]
  },
  {
   "cell_type": "code",
   "execution_count": 57,
   "id": "14c092e0",
   "metadata": {},
   "outputs": [
    {
     "data": {
      "text/plain": [
       "[8883, 7688, 9544, 8190]"
      ]
     },
     "execution_count": 57,
     "metadata": {},
     "output_type": "execute_result"
    }
   ],
   "source": [
    "# 06)\n",
    "\n",
    "vendas = [('2023', 4093), ('2021', 4320), ('2021', 5959), ('2022', 8883), ('2023', 9859), ('2022', 5141), ('2022', 7688), ('2022', 9544), ('2023', 4794), ('2021', 7178), ('2022', 3030), ('2021', 7471), ('2022', 4226), ('2022', 8190), ('2021', 9680), ('2022', 5616)]\n",
    "\n",
    "lista = [valor[1] for valor in vendas if valor[0] == '2022' and valor[1] >= 6000]\n",
    "lista"
   ]
  },
  {
   "cell_type": "code",
   "execution_count": 58,
   "id": "520e3183",
   "metadata": {},
   "outputs": [
    {
     "data": {
      "text/plain": [
       "[('Diabetes', 129),\n",
       " ('Normal', 82),\n",
       " ('Hipoglicemia', 60),\n",
       " ('Diabetes', 97),\n",
       " ('Alterada', 101),\n",
       " ('Hipoglicemia', 65),\n",
       " ('Hipoglicemia', 62),\n",
       " ('Diabetes', 167),\n",
       " ('Normal', 87),\n",
       " ('Hipoglicemia', 53),\n",
       " ('Hipoglicemia', 58),\n",
       " ('Diabetes', 92),\n",
       " ('Hipoglicemia', 66),\n",
       " ('Alterada', 120),\n",
       " ('Alterada', 109),\n",
       " ('Hipoglicemia', 62),\n",
       " ('Normal', 86),\n",
       " ('Diabetes', 96),\n",
       " ('Alterada', 103),\n",
       " ('Normal', 88),\n",
       " ('Diabetes', 155),\n",
       " ('Hipoglicemia', 52),\n",
       " ('Normal', 89),\n",
       " ('Normal', 73)]"
      ]
     },
     "execution_count": 58,
     "metadata": {},
     "output_type": "execute_result"
    }
   ],
   "source": [
    "# 07)\n",
    "\n",
    "glicemia = [129, 82, 60, 97, 101, 65, 62, 167, 87, 53, 58, 92, 66, 120, 109, 62, 86, 96, 103, 88, 155, 52, 89, 73]\n",
    "resultado = [\"Hipoglicemia\" if glicemia < 70 else \"Normal\" if glicemia >= 70 and glicemia < 90 else \"Alterada\" if glicemia > 100 and glicemia < 125 else \"Diabetes\" for glicemia in glicemia]\n",
    "\n",
    "# Resultado proposto\n",
    "#x = [(\"Hipoglicemia\",glicemia) if glicemia <= 70 else ('Diabetes', glicemia) for glicemia in glicemia]\n",
    "#x\n",
    "\n",
    "resultado = list(zip(resultado,glicemia))\n",
    "resultado"
   ]
  },
  {
   "cell_type": "code",
   "execution_count": 59,
   "id": "d7011b7c",
   "metadata": {},
   "outputs": [
    {
     "data": {
      "text/plain": [
       "['id',\n",
       " 'quantidade',\n",
       " 'preco',\n",
       " 'total',\n",
       " (0, 15, 93.0, 1395.0),\n",
       " (1, 12, 102.0, 1224.0),\n",
       " (2, 1, 18.0, 18.0),\n",
       " (3, 15, 41.0, 615.0),\n",
       " (4, 2, 122.0, 244.0),\n",
       " (5, 11, 14.0, 154.0),\n",
       " (6, 2, 71.0, 142.0),\n",
       " (7, 12, 48.0, 576.0),\n",
       " (8, 2, 14.0, 28.0),\n",
       " (9, 4, 144.0, 576.0)]"
      ]
     },
     "execution_count": 59,
     "metadata": {},
     "output_type": "execute_result"
    }
   ],
   "source": [
    "# 08)\n",
    "\n",
    "id = [0, 1, 2, 3, 4, 5, 6, 7, 8, 9]\n",
    "quantidade = [15, 12, 1, 15, 2, 11, 2, 12, 2, 4]\n",
    "preco = [93.0, 102.0, 18.0, 41.0, 122.0, 14.0, 71.0, 48.0, 14.0, 144.0]\n",
    "\n",
    "cabecalho = ['id','quantidade','preco','total']\n",
    "cabecalho += [(id[i],quantidade[i],preco[i],quantidade[i]*preco[i]) for i in range(len(id))]\n",
    "cabecalho"
   ]
  },
  {
   "cell_type": "code",
   "execution_count": 60,
   "id": "afa1aa6b",
   "metadata": {},
   "outputs": [
    {
     "name": "stdout",
     "output_type": "stream",
     "text": [
      "[['RJ', 'RJ'], ['ES', 'ES', 'ES', 'ES', 'ES', 'ES'], ['SP', 'SP', 'SP', 'SP', 'SP', 'SP', 'SP', 'SP'], ['MG', 'MG', 'MG', 'MG', 'MG', 'MG', 'MG']]\n",
      "{'RJ': 2, 'ES': 6, 'SP': 8, 'MG': 7}\n"
     ]
    }
   ],
   "source": [
    "# 09)\n",
    "\n",
    "estados = ['SP', 'ES', 'MG', 'MG', 'SP', 'MG', 'ES', 'ES', 'ES', 'SP', 'SP', 'MG', 'ES', 'SP', 'RJ', 'MG', 'RJ', 'SP', 'MG', 'SP', 'ES', 'SP', 'MG']\n",
    "\n",
    "estados_unicos = list(set(estados))\n",
    "\n",
    "lista_de_listas = []\n",
    "\n",
    "for estado in estados_unicos:\n",
    "    lista = [uf for uf in estados if uf == estado]\n",
    "    lista_de_listas.append(lista)\n",
    "print(lista_de_listas)\n",
    "\n",
    "contagem_valores = {estados_unicos[i]: len(lista_de_listas[i]) for i in range(len(estados_unicos))}\n",
    "\n",
    "print(contagem_valores)"
   ]
  },
  {
   "cell_type": "code",
   "execution_count": null,
   "id": "a2ea4068",
   "metadata": {},
   "outputs": [],
   "source": [
    "# 10)\n",
    "\n",
    "funcionarios = [('SP', 16), ('ES', 8), ('MG', 9), ('MG', 6), ('SP', 10), ('MG', 4), ('ES',9), ('ES', 7), ('ES', 12), ('SP', 7), ('SP', 11), ('MG',8), ('ES',8), ('SP',9), ('RJ', 13), ('MG', 5), ('RJ', 9), ('SP', 12), ('MG', 10), ('SP', 7), ('ES', 14), ('SP', 10), ('MG', 12)]\n",
    "\n",
    "\n",
    "# Armazenando os estados sem repetição de valor\n",
    "estados_unicos = list(set([tupla[0] for tupla in funcionarios]))\n",
    "\n",
    "# Criando uma lista de listas com valores de funcionários de cada estado\n",
    "lista_de_listas = []\n",
    "for estado in estados_unicos:\n",
    "    lista = [tupla[1] for tupla in funcionarios if tupla[0] == estado]\n",
    "    lista_de_listas.append(lista)\n",
    "print(lista_de_listas)\n",
    "\n",
    "# Criando um dicionário com dados agrupados de funcionário por estado\n",
    "agrupamento_por_estado = {estados_unicos[i]: lista_de_listas[i] for i in range(len(estados_unicos))}\n",
    "print(agrupamento_por_estado)\n",
    "\n",
    "# Criando um dicionário com a soma de funcionários por estado\n",
    "soma_por_estado = {estados_unicos[i]: sum(lista_de_listas[i]) for i in range(len(estados_unicos))}\n",
    "print(soma_por_estado)"
   ]
  }
 ],
 "metadata": {
  "kernelspec": {
   "display_name": "Python 3 (ipykernel)",
   "language": "python",
   "name": "python3"
  },
  "language_info": {
   "codemirror_mode": {
    "name": "ipython",
    "version": 3
   },
   "file_extension": ".py",
   "mimetype": "text/x-python",
   "name": "python",
   "nbconvert_exporter": "python",
   "pygments_lexer": "ipython3",
   "version": "3.9.13"
  }
 },
 "nbformat": 4,
 "nbformat_minor": 5
}
